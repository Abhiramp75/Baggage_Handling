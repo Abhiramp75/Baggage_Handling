{
  "cells": [
    {
      "cell_type": "code",
      "execution_count": null,
      "metadata": {
        "id": "kpcNnW4KW3jN"
      },
      "outputs": [],
      "source": [
        "# Importing libraries\n",
        "\n",
        "from gurobipy import *\n",
        "\n",
        "import numpy as np\n",
        "\n",
        "import pandas as pd\n",
        "\n",
        "import warnings\n",
        "warnings.filterwarnings(\"ignore\")"
      ]
    },
    {
      "cell_type": "code",
      "execution_count": null,
      "metadata": {
        "id": "Zw8e-GGLW3jO"
      },
      "outputs": [],
      "source": [
        "m = Model();"
      ]
    },
    {
      "cell_type": "code",
      "execution_count": null,
      "metadata": {
        "id": "WsYo0pIUW3jO"
      },
      "outputs": [],
      "source": [
        "# Static parameters\n",
        "number_of_gates = 9\n",
        "number_of_carts = 4\n",
        "\n",
        "# Process parameters in seconds\n",
        "unload_time = 300\n",
        "load_time = 300\n",
        "travel_time = 120"
      ]
    },
    {
      "cell_type": "markdown",
      "metadata": {
        "id": "TmNmEQ_XW3jO"
      },
      "source": [
        "## Defining sets"
      ]
    },
    {
      "cell_type": "markdown",
      "metadata": {
        "id": "QlS6q_sPW3jO"
      },
      "source": [
        "### Basic sets"
      ]
    },
    {
      "cell_type": "markdown",
      "metadata": {
        "id": "u8AWvZfLW3jP"
      },
      "source": [
        "$\\begin{gather}\n",
        "I = 0,1, \\dots, (number\\;of\\;gates)\\\\\n",
        "J = 0,1, \\dots, ((number\\;of\\;gates\\;\\times\\;2)\\;-1)\\\\\n",
        "K = 0,1, \\dots, ((number\\;of\\;gates\\;\\times\\;2)\\;-2)\\\\\n",
        "\\end{gather}$"
      ]
    },
    {
      "cell_type": "code",
      "execution_count": null,
      "metadata": {
        "id": "j5ShZg5yW3jP"
      },
      "outputs": [],
      "source": [
        "set_I = [I for I in range(0,number_of_gates+1)] # I ---> 0 to 9\n",
        "set_J = [J for J in range(0,number_of_gates*2)] # J ---> 0 to 17\n",
        "set_K = [K for K in range(0,number_of_gates*2-1)] # K ---> 0 to 16"
      ]
    },
    {
      "cell_type": "markdown",
      "metadata": {
        "id": "gSmxyWgdW3jP"
      },
      "source": [
        "### Subsidiary sets"
      ]
    },
    {
      "cell_type": "markdown",
      "metadata": {
        "id": "30UnBPh4W3jP"
      },
      "source": [
        "$\\begin{gather}\n",
        "i = 1,2 \\dots, (number\\;of\\;gates)\\\\\n",
        "j = 1,2 \\dots, ((number\\;of\\;gates\\;\\times\\;2)\\;-1)\\\\\n",
        "k = 1,2 \\dots, ((number\\;of\\;gates\\;\\times\\;2)\\;-2)\\\\\n",
        "\\end{gather}$"
      ]
    },
    {
      "cell_type": "code",
      "execution_count": null,
      "metadata": {
        "id": "eTyQu-7jW3jP"
      },
      "outputs": [],
      "source": [
        "set_i = [i for i in range(1,number_of_gates+1)] # i --> 1 to 9\n",
        "set_j = [j for j in range(1,number_of_gates*2)] # j ---> 1 to 17\n",
        "set_k = [k for k in range(1,number_of_gates*2-1)] # k ---> 1 to 16"
      ]
    },
    {
      "cell_type": "markdown",
      "metadata": {
        "id": "N74YXuynW3jQ"
      },
      "source": [
        "## Defining variables"
      ]
    },
    {
      "cell_type": "markdown",
      "metadata": {
        "id": "wEd9saaEW3jQ"
      },
      "source": [
        "$ x_{J,I} $: $\\begin{gather} 1\\;If\\;the\\;rampie\\;delivers\\;baggage\\;belonging\\;to\\;gate\\;I\\;in\\;J^{th}\\;attempt.\\;Else\\;0 \\end{gather}$"
      ]
    },
    {
      "cell_type": "markdown",
      "metadata": {
        "id": "Ai3auNhHW3jQ"
      },
      "source": [
        "$ t_{K,I} $: $\\begin{gather} 1\\;If\\;the\\;rampie\\;picks\\;baggage\\;belonging\\;to\\;gate\\;I\\;in\\;J^{th}\\;attempt.\\;Else\\;0 \\end{gather}$"
      ]
    },
    {
      "cell_type": "code",
      "execution_count": null,
      "metadata": {
        "id": "OreTq0ZMW3jQ"
      },
      "outputs": [],
      "source": [
        "x = m.addVars(set_J, set_I, name=\"x\", lb = +0.0, vtype=GRB.BINARY)\n",
        "t = m.addVars(set_K, set_I, name=\"t\", lb = +0.0, vtype=GRB.BINARY)"
      ]
    },
    {
      "cell_type": "markdown",
      "metadata": {
        "id": "SfkjZ2AmW3jQ"
      },
      "source": [
        "## Defining constraints"
      ]
    },
    {
      "cell_type": "markdown",
      "metadata": {
        "id": "K3JZVoY_W3jQ"
      },
      "source": [
        "$$ \\begin{aligned}\n",
        "\\quad&\\sum_{K=0}^{(number\\;of\\;gates\\;\\times\\;2)-2}t_{K,0} = (number\\;of\\;gates\\;\\times\\;2)-1\\\\\n",
        "\\forall \\; i \\in Set\\;i \\quad&\\sum_{K=0}^{(number\\;of\\;gates\\;\\times\\;2)-2}t_{K,i} = 1\\\\\n",
        "\\forall \\; K \\in Set\\;K \\quad&\\sum_{I=0}^{(number\\;of\\;gates)}t_{K,I} = (number\\;of\\;carts)+1\\\\\n",
        "\\end{aligned} $$"
      ]
    },
    {
      "cell_type": "code",
      "execution_count": null,
      "metadata": {
        "id": "rSEjgqSrW3jR"
      },
      "outputs": [],
      "source": [
        "m.addConstrs(      (    sum(t[K,a] for K in set_K) == number_of_gates*2-1 for a in [0]   )         ,\"con1.1\");\n",
        "m.addConstrs(      (    sum(t[K,i] for K in set_K) == 1 for i in set_i    )         ,\"con1.2\");\n",
        "m.addConstrs(      (    sum(t[K,I] for I in set_I) <= number_of_carts+1 for K in set_K   )         ,\"con1.3\");"
      ]
    },
    {
      "cell_type": "markdown",
      "metadata": {
        "id": "lCC43t6sW3jR"
      },
      "source": [
        "-------------------------------------------------------------------------------------------------------------------------------"
      ]
    },
    {
      "cell_type": "markdown",
      "metadata": {
        "id": "_DSCBm8lW3jR"
      },
      "source": [
        "$$ \\begin{aligned}\n",
        "\\forall \\; i \\in Set\\;i \\quad&\\sum_{J=0}^{(number\\;of\\;gates\\;\\times\\;2)-1} x_{J,i} = 1\\\\\n",
        "\\forall \\; J \\in Set\\;J \\quad&\\sum_{I=0}^{(number\\;of\\;gates)} x_{J,I} = 1\\\\\n",
        "\\end{aligned} $$"
      ]
    },
    {
      "cell_type": "code",
      "execution_count": null,
      "metadata": {
        "id": "0SX2VISnW3jR"
      },
      "outputs": [],
      "source": [
        "m.addConstrs(      (    sum(x[J,i] for J in set_J) == 1 for i in set_i   )         ,\"con2.1\");\n",
        "m.addConstrs(      (    sum(x[J,I] for I in set_I) <= 1 for J in set_J   )         ,\"con2.2\");"
      ]
    },
    {
      "cell_type": "markdown",
      "metadata": {
        "id": "RFbgWQK8W3jR"
      },
      "source": [
        "-------------------------------------------------------------------------------------------------------------------------------"
      ]
    },
    {
      "cell_type": "markdown",
      "metadata": {
        "id": "cbBNUL31W3jR"
      },
      "source": [
        "$$ \\begin{aligned}\n",
        "\\forall \\; j \\in Set\\;j\\;\\;\\;\\forall \\; i \\in Set\\;i\\quad&x_{j,i}\\;-\\;\\sum_{K=0}^{(j^{th}\\;element\\;in\\;Set\\;K)} t_{K,i} \\leqslant 0\\\\\n",
        "\\end{aligned} $$"
      ]
    },
    {
      "cell_type": "code",
      "execution_count": null,
      "metadata": {
        "id": "pd3jRfHDW3jR"
      },
      "outputs": [],
      "source": [
        "m.addConstrs(      (    x[j,i] - sum(t[K,i] for K in set_K[:j]) <= 0 for i in set_i for j in set_j   )         ,\"con3.1\");"
      ]
    },
    {
      "cell_type": "markdown",
      "metadata": {
        "id": "c5joEY_kW3jS"
      },
      "source": [
        "-----------------------------------------------------------------------------------------------------------------------------"
      ]
    },
    {
      "cell_type": "markdown",
      "metadata": {
        "id": "ZMic-edZW3jS"
      },
      "source": [
        "$$ \\begin{aligned}\n",
        "\\forall \\; K \\in Set\\;K\\quad&x_{j,i}\\times (Number\\;of\\;gates)\\;-\\;\\sum_{i=1}^{(Number\\;of\\;gates)} t_{K,i} \\geqslant 0\\\\\n",
        "\\forall \\; K \\in Set\\;K\\quad&(Number\\;of\\;gates)-1\\geqslant x_{j,i}\\times (Number\\;of\\;gates)\\;-\\;\\sum_{i=1}^{(Number\\;of\\;gates)} t_{K,i} \\\\\n",
        "\\end{aligned} $$"
      ]
    },
    {
      "cell_type": "code",
      "execution_count": null,
      "metadata": {
        "id": "UlfMnNfNW3jS"
      },
      "outputs": [],
      "source": [
        "m.addConstrs(      (     number_of_carts*x[K,0] - sum(t[K,i] for i in set_i) >= 0 for K in set_K   )         ,\"con4.1\");\n",
        "\n",
        "# m.addConstrs(      (     number_of_carts > number_of_carts*x[K,0] - sum(t[K,i] for i in set_i) for K in set_K   )         ,\"con4.2\")\n",
        "# The above constraint gave me \"No implementation error\" for some reason of using > instead of >=\n",
        "\n",
        "m.addConstrs(      (     number_of_carts-1 >= number_of_carts*x[K,0] - sum(t[K,i] for i in set_i) for K in set_K   )         ,\"con4.2\");"
      ]
    },
    {
      "cell_type": "markdown",
      "metadata": {
        "id": "FWrbLeoRW3jS"
      },
      "source": [
        "-------------------------------------------------------------------------------------------------------------------------------"
      ]
    },
    {
      "cell_type": "markdown",
      "metadata": {
        "id": "ET8dimfXW3jS"
      },
      "source": [
        "$$ \\begin{aligned}\n",
        "\\forall \\; k \\in Set\\;k \\quad&\\sum_{K=0}^{((k+1)^{th}\\;element\\;in\\;set\\;K)}\\sum_{i=1}^{(Number\\;of\\;gates)} t_{K,i} - \\sum_{K=0}^{(k^{th}\\;element\\;in\\;set\\;K)}\\sum_{i=1}^{(Number\\;of\\;gates)} x_{K,i} \\leqslant (Number\\;of\\;carts)\\\\\n",
        "\\end{aligned} $$"
      ]
    },
    {
      "cell_type": "code",
      "execution_count": null,
      "metadata": {
        "id": "SBfIoT_XW3jS"
      },
      "outputs": [],
      "source": [
        "m.addConstrs(      (    sum(t[K,i] for i in set_i for K in set_K[:k+1]) - sum(x[K,i] for i in set_i for K in set_K[:k]) <= number_of_carts for k in set_k   )         ,\"con4.3\");"
      ]
    },
    {
      "cell_type": "markdown",
      "metadata": {
        "id": "I05tMUY1W3jS"
      },
      "source": [
        "-------------------------------------------------------------------------------------------------------------------------------"
      ]
    },
    {
      "cell_type": "markdown",
      "metadata": {
        "id": "m9J37ignW3jT"
      },
      "source": [
        "$$ \\begin{aligned}\n",
        "\\forall \\; J \\in (First\\;element\\;in\\;Set\\;J)\\;\\forall \\; I \\in (First\\;element\\;in\\;Set\\;I) \\quad&x_{J,I} = 1\\\\\n",
        "\\forall \\; I \\in (First\\;element\\;in\\;Set\\;I) \\quad&x_{1,I} = 1\\\\\n",
        "\\end{aligned} $$"
      ]
    },
    {
      "cell_type": "code",
      "execution_count": null,
      "metadata": {
        "id": "7ZUT9ENIW3jT"
      },
      "outputs": [],
      "source": [
        "m.addConstrs(      (x[J,I] ==  1 for J in set_J[:1] for I in set_I[:1]  )     ,\"con5.1\");\n",
        "m.addConstrs(      (x[1,I] ==  0 for I in set_I[:1]  )     ,\"con5.2\");"
      ]
    },
    {
      "cell_type": "markdown",
      "metadata": {
        "id": "gw46p1lzW3jT"
      },
      "source": [
        "-------------------------------------------------------------------------------------------------------------------------------"
      ]
    },
    {
      "cell_type": "markdown",
      "metadata": {
        "id": "sc-DqDlcW3jT"
      },
      "source": [
        "$$ \\begin{aligned}\n",
        "\\forall \\; K \\in Set\\;K\\;\\forall \\; j \\in (K^{th}\\;element\\;till\\;end\\;of\\;Set\\;j) \\quad&\\sum_{K=0}^{(number\\;of\\;gates\\;\\times\\;2)-2} x_{K,I}\\geqslant\\\\ \\sum_{I=0}^{(number\\;of\\;gates)} x_{j,I}\n",
        "\\end{aligned} $$"
      ]
    },
    {
      "cell_type": "code",
      "execution_count": null,
      "metadata": {
        "id": "iSh77i7TW3jT"
      },
      "outputs": [],
      "source": [
        "for K in set_K:\n",
        "    for j in set_j[K:]:\n",
        "        m.addConstr((     sum(x[K,I] for I in set_I) >= sum(x[j,I] for I in set_I)     ))"
      ]
    },
    {
      "cell_type": "markdown",
      "metadata": {
        "id": "Yls5YNniW3jT"
      },
      "source": [
        "-------------------------------------------------------------------------------------------------------------------------------"
      ]
    },
    {
      "cell_type": "markdown",
      "metadata": {
        "id": "S0QBmwyqW3jT"
      },
      "source": [
        "$$ \\begin{aligned}\n",
        "\\forall \\; (j,K) \\in (Set\\;j,\\;Set\\;K)\\quad& x_{K,0} + x_{j,0}\\leqslant 1\\\\\n",
        "\\end{aligned} $$"
      ]
    },
    {
      "cell_type": "code",
      "execution_count": null,
      "metadata": {
        "id": "D-O0ueGOW3jU"
      },
      "outputs": [],
      "source": [
        "for j,K in zip(set_j,set_K):\n",
        "    m.addConstr(      (x[K,0] + x[j,0] <=  1  )     )"
      ]
    },
    {
      "cell_type": "markdown",
      "metadata": {
        "id": "hX2-oUGPW3jU"
      },
      "source": [
        "## Objective function (Dummy)"
      ]
    },
    {
      "cell_type": "code",
      "execution_count": null,
      "metadata": {
        "id": "bCYhDrBNW3jU"
      },
      "outputs": [],
      "source": [
        "m.setObjective(0, GRB.MAXIMIZE)"
      ]
    },
    {
      "cell_type": "markdown",
      "metadata": {
        "id": "z1jjqfv1W3jU"
      },
      "source": [
        "## Setting solver parameters"
      ]
    },
    {
      "cell_type": "code",
      "execution_count": null,
      "metadata": {
        "id": "XX9c9TN2W3jU",
        "outputId": "cea813b2-efc1-49e8-a9d2-ffdc3cd4dbbf"
      },
      "outputs": [
        {
          "name": "stdout",
          "output_type": "stream",
          "text": [
            "Set parameter PoolSolutions to value 15\n",
            "Set parameter PoolSearchMode to value 2\n",
            "Gurobi Optimizer version 9.5.1 build v9.5.1rc2 (win64)\n",
            "Thread count: 6 physical cores, 12 logical processors, using up to 12 threads\n",
            "Optimize a model with 429 rows, 350 columns and 8240 nonzeros\n",
            "Model fingerprint: 0xdd03bbda\n",
            "Variable types: 0 continuous, 350 integer (350 binary)\n",
            "Coefficient statistics:\n",
            "  Matrix range     [1e+00, 4e+00]\n",
            "  Objective range  [0e+00, 0e+00]\n",
            "  Bounds range     [1e+00, 1e+00]\n",
            "  RHS range        [1e+00, 2e+01]\n",
            "Found heuristic solution: objective -0.0000000\n",
            "Presolve removed 91 rows and 36 columns\n",
            "Presolve time: 0.03s\n",
            "Presolved: 338 rows, 314 columns, 5618 nonzeros\n",
            "Variable types: 0 continuous, 314 integer (313 binary)\n",
            "\n",
            "Root relaxation: objective -0.000000e+00, 168 iterations, 0.00 seconds (0.00 work units)\n",
            "\n",
            "    Nodes    |    Current Node    |     Objective Bounds      |     Work\n",
            " Expl Unexpl |  Obj  Depth IntInf | Incumbent    BestBd   Gap | It/Node Time\n",
            "\n",
            "     0     0          -    0        -0.00000   -0.00000  0.00%     -    0s\n",
            "\n",
            "Optimal solution found at node 0 - now completing solution pool...\n",
            "\n",
            "    Nodes    |    Current Node    |      Pool Obj. Bounds     |     Work\n",
            "             |                    |   Worst                   |\n",
            " Expl Unexpl |  Obj  Depth IntInf | Incumbent    BestBd   Gap | It/Node Time\n",
            "\n",
            "     0     0          -    0               -   -0.00000      -     -    0s\n",
            "     0     0          -    0               -   -0.00000      -     -    0s\n",
            "     0     2          -    0               -   -0.00000      -     -    0s\n",
            "\n",
            "Explored 85 nodes (2371 simplex iterations) in 0.13 seconds (0.09 work units)\n",
            "Thread count was 12 (of 12 available processors)\n",
            "\n",
            "Solution count 15: -0 -0 -0 ... -0\n",
            "No other solutions better than -0\n",
            "\n",
            "Optimal solution found (tolerance 1.00e-04)\n",
            "Best objective -0.000000000000e+00, best bound -0.000000000000e+00, gap 0.0000%\n"
          ]
        }
      ],
      "source": [
        "# n=18192\n",
        "n=15\n",
        "m.setParam('PoolSolutions',n) # 10 by default\n",
        "m.setParam('PoolSearchMode',2) # 0 by default\n",
        "# m.setParam('IntegralityFocus',1) # This parameter will make sure during MIPs 1 cannot shows 1.00009 or 0.9999. It strictly bounds to integer values only. Seemingly it does not work.\n",
        "\n",
        "m.update() # Not sure when exactly to use it\n",
        "m.optimize()"
      ]
    },
    {
      "cell_type": "markdown",
      "metadata": {
        "id": "EBFiAA2lW3jV"
      },
      "source": [
        "# Statistics"
      ]
    },
    {
      "cell_type": "code",
      "execution_count": null,
      "metadata": {
        "id": "PkZ3Wl-IW3jV"
      },
      "outputs": [],
      "source": [
        "# m.computeIIS() # Dont know what exactly this is. It works only on infeasible solutions\n",
        "\n",
        "# m.write('C:\\\\Users\\\\sabbe\\\\Desktop\\\\UPitt\\\\Optimization\\\\United_airlines_bagrunner_optimization\\\\model.lp')\n",
        "# m.write('C:\\\\Users\\\\sabbe\\\\Desktop\\\\UPitt\\\\Optimization\\\\United_airlines_bagrunner_optimization\\\\model.mps')\n",
        "# print (m.display())"
      ]
    },
    {
      "cell_type": "code",
      "execution_count": null,
      "metadata": {
        "id": "R9agdfXkW3jV"
      },
      "outputs": [],
      "source": [
        "# m.printQuality()\n",
        "# m.printStats()"
      ]
    },
    {
      "cell_type": "markdown",
      "metadata": {
        "id": "gtpczBCfW3jV"
      },
      "source": [
        "# Answer check"
      ]
    },
    {
      "cell_type": "code",
      "execution_count": null,
      "metadata": {
        "id": "xZZLddmzW3jV",
        "outputId": "fce54c8b-c844-441f-9956-bdba782358d2"
      },
      "outputs": [
        {
          "name": "stdout",
          "output_type": "stream",
          "text": [
            "[1.0, 1.0, 1.0, 1.0, 1.0, 1.0, 1.0, 1.0, 1.0, 1.0, 1.0, 1.0, 1.0, 1.0, 1.0, 1.0, 1.0]\n",
            "[0.0, 0.0, 0.0, 0.0, 0.0, 0.0, 0.0, 1.0, 0.0, 0.0, 0.0, 0.0, 0.0, 0.0, 0.0, 0.0, 0.0]\n",
            "[1.0, 0.0, 0.0, 0.0, 0.0, 0.0, 0.0, 0.0, 0.0, 0.0, 0.0, 0.0, 0.0, 0.0, 0.0, 0.0, 0.0]\n",
            "[0.0, 0.0, 0.0, 0.0, 0.0, 0.0, 0.0, 1.0, 0.0, 0.0, 0.0, 0.0, 0.0, 0.0, 0.0, 0.0, 0.0]\n",
            "[0.0, 0.0, 0.0, 0.0, 0.0, 0.0, 0.0, 0.0, 0.0, 0.0, 0.0, 1.0, 0.0, 0.0, 0.0, 0.0, 0.0]\n",
            "[1.0, 0.0, 0.0, 0.0, 0.0, 0.0, 0.0, 0.0, 0.0, 0.0, 0.0, 0.0, 0.0, 0.0, 0.0, 0.0, 0.0]\n",
            "[0.0, 0.0, 0.0, 1.0, 0.0, 0.0, 0.0, 0.0, 0.0, 0.0, 0.0, 0.0, 0.0, 0.0, 0.0, 0.0, 0.0]\n",
            "[0.0, 0.0, 0.0, 1.0, 0.0, 0.0, 0.0, 0.0, 0.0, 0.0, 0.0, 0.0, 0.0, 0.0, 0.0, 0.0, 0.0]\n",
            "[1.0, 0.0, 0.0, 0.0, 0.0, 0.0, 0.0, 0.0, 0.0, 0.0, 0.0, 0.0, 0.0, 0.0, 0.0, 0.0, 0.0]\n",
            "[1.0, 0.0, 0.0, 0.0, 0.0, 0.0, 0.0, 0.0, 0.0, 0.0, 0.0, 0.0, 0.0, 0.0, 0.0, 0.0, 0.0]\n",
            "---------------------------------------------------------------------\n",
            "[1.0, 0.0, 0.0, 1.0, 0.0, 0.0, 0.0, 1.0, 0.0, 0.0, 0.0, 1.0, 0.0, 0.0, 0.0, 0.0, 0.0, 0.0]\n",
            "[0.0, 0.0, 0.0, 0.0, 0.0, 0.0, 0.0, 0.0, 0.0, 1.0, 0.0, 0.0, 0.0, 0.0, 0.0, 0.0, 0.0, 0.0]\n",
            "[0.0, 1.0, 0.0, 0.0, 0.0, 0.0, 0.0, 0.0, 0.0, 0.0, 0.0, 0.0, 0.0, 0.0, 0.0, 0.0, 0.0, 0.0]\n",
            "[0.0, 0.0, 0.0, 0.0, 0.0, 0.0, 0.0, 0.0, 1.0, 0.0, 0.0, 0.0, 0.0, 0.0, 0.0, 0.0, 0.0, 0.0]\n",
            "[0.0, 0.0, 0.0, 0.0, 0.0, 0.0, 0.0, 0.0, 0.0, 0.0, 0.0, 0.0, 1.0, 0.0, 0.0, 0.0, 0.0, 0.0]\n",
            "[0.0, 0.0, 0.0, 0.0, 0.0, 0.0, 1.0, 0.0, 0.0, 0.0, 0.0, 0.0, 0.0, 0.0, 0.0, 0.0, 0.0, 0.0]\n",
            "[0.0, 0.0, 0.0, 0.0, 0.0, 0.0, 0.0, 0.0, 0.0, 0.0, 1.0, 0.0, 0.0, 0.0, 0.0, 0.0, 0.0, 0.0]\n",
            "[0.0, 0.0, 0.0, 0.0, 0.0, 1.0, 0.0, 0.0, 0.0, 0.0, 0.0, 0.0, 0.0, 0.0, 0.0, 0.0, 0.0, 0.0]\n",
            "[0.0, 0.0, 1.0, 0.0, 0.0, 0.0, 0.0, 0.0, 0.0, 0.0, 0.0, 0.0, 0.0, 0.0, 0.0, 0.0, 0.0, 0.0]\n",
            "[0.0, 0.0, 0.0, 0.0, 1.0, 0.0, 0.0, 0.0, 0.0, 0.0, 0.0, 0.0, 0.0, 0.0, 0.0, 0.0, 0.0, 0.0]\n"
          ]
        }
      ],
      "source": [
        "#m.setParam('SolutionNumber',12250)\n",
        "#m.setParam('SolutionNumber',1)\n",
        "\n",
        "for I in set_I:\n",
        "    globals()['sol%s'%I]=[]\n",
        "    for K in set_K:\n",
        "        globals()['sol%s'%I].append(t[K,I].xn)\n",
        "    print(globals()['sol%s'%I])\n",
        "    \n",
        "\n",
        "print('---------------------------------------------------------------------')\n",
        "\n",
        "for I in set_I:\n",
        "    globals()['soll%s'%I]=[]\n",
        "    for J in set_J:\n",
        "        globals()['soll%s'%I].append(x[J,I].Xn)\n",
        "    print(globals()['soll%s'%I])"
      ]
    },
    {
      "cell_type": "markdown",
      "metadata": {
        "id": "ySfyIeExW3jW"
      },
      "source": [
        "## Solutions in a dataset"
      ]
    },
    {
      "cell_type": "code",
      "execution_count": null,
      "metadata": {
        "id": "DYVnl1DfW3jW"
      },
      "outputs": [],
      "source": [
        "sol_pool = pd.read_excel('C:\\\\Users\\\\sabbe\\\\Desktop\\\\UPitt\\\\Optimization\\\\United_airlines_bagrunner_optimization\\\\Solution_pool_template.xlsx',sheet_name = \"Sheet1\")"
      ]
    },
    {
      "cell_type": "code",
      "execution_count": null,
      "metadata": {
        "id": "1mepufRTW3jW"
      },
      "outputs": [],
      "source": [
        "#nn = 18192\n",
        "n\n",
        "for r in range(0,n):\n",
        "    m.setParam('SolutionNumber',r) # 0 by default\n",
        "    row = r\n",
        "    for K in set_K:\n",
        "        string=\"\"\n",
        "        for i in set_i:\n",
        "            if t[K,i].xn >= 0.5:\n",
        "                string = string + str(i) + \"p,\"\n",
        "        if string != \"\":\n",
        "            sol_pool.at[row, 'attempt ' + str(K)] = string[:len(string)-1]\n",
        "        else:\n",
        "            sol_pool.at[row, 'attempt ' + str(K)] = str(int(sum(round(x[K,ii].xn)*ii for ii in set_i))) + 'd'\n",
        "    la = number_of_gates*2-1\n",
        "    sol_pool.at[row, 'attempt ' + str(la)] = str(int(sum(round(x[K,ii].xn)*ii for ii in set_i))) + 'd'"
      ]
    },
    {
      "cell_type": "code",
      "execution_count": null,
      "metadata": {
        "id": "xvFykl7tW3jW"
      },
      "outputs": [],
      "source": [
        "def count(s):\n",
        "    c=0\n",
        "    for i in range(0,len(s)):\n",
        "        if s[i] == 'p':\n",
        "            c = c+1\n",
        "    return c\n",
        "\n",
        "for l in range(0,len(sol_pool)):\n",
        "    total_time = 0\n",
        "    globals()['dict_%s'%l] = {}\n",
        "    \n",
        "    for K in set_K:\n",
        "        if sol_pool['attempt '+str(K)].iloc[l] == \"0d\":\n",
        "            break\n",
        "        if K == 0:\n",
        "            total_time = count(sol_pool['attempt '+str(K)].iloc[l])*load_time\n",
        "            globals()['dict_%s'%l].update({sol_pool['attempt '+str(K)].iloc[l]:total_time})\n",
        "        else:\n",
        "            if \"d\" in sol_pool['attempt '+str(K)].iloc[l]:\n",
        "                if \"p\" in sol_pool['attempt '+str(K-1)].iloc[l]:\n",
        "                    total_time = total_time + unload_time + travel_time * int(sol_pool['attempt '+str(K)].iloc[l][:-1])\n",
        "                    globals()['dict_%s'%l].update({sol_pool['attempt '+str(K)].iloc[l]:total_time})\n",
        "                else:\n",
        "                    total_time = total_time + unload_time + travel_time * abs( int(sol_pool['attempt '+str(K-1)].iloc[l][:-1]) - int(sol_pool['attempt '+str(K)].iloc[l][:-1])  )\n",
        "                    globals()['dict_%s'%l].update({sol_pool['attempt '+str(K)].iloc[l]:total_time})\n",
        "            else:\n",
        "                total_time = total_time + load_time*(count(sol_pool['attempt '+str(K)].iloc[l])) + travel_time * int(sol_pool['attempt '+str(K-1)].iloc[l][:-1])\n",
        "                globals()['dict_%s'%l].update({sol_pool['attempt '+str(K)].iloc[l]:total_time})\n",
        "                \n",
        "    sol_pool.at[l, 'total_time'] =  list(globals()['dict_%s'%l].values())[-1]/3600"
      ]
    },
    {
      "cell_type": "code",
      "execution_count": null,
      "metadata": {
        "id": "BCIMVF1nW3jW"
      },
      "outputs": [],
      "source": [
        "sol_pool['sequence'] = str('')\n",
        "for i in range(0,len(sol_pool)):\n",
        "    for j in range(0,len(sol_pool.columns)-2):\n",
        "        sol_pool['sequence'].iloc[i] = str(sol_pool['sequence'].iloc[i])+str(sol_pool.iloc[i,j])"
      ]
    },
    {
      "cell_type": "code",
      "execution_count": null,
      "metadata": {
        "id": "eHAKvbbEW3jX",
        "outputId": "7126aae3-1ea8-43d7-dfa4-daf75ebd421b"
      },
      "outputs": [
        {
          "data": {
            "text/html": [
              "<div>\n",
              "<style scoped>\n",
              "    .dataframe tbody tr th:only-of-type {\n",
              "        vertical-align: middle;\n",
              "    }\n",
              "\n",
              "    .dataframe tbody tr th {\n",
              "        vertical-align: top;\n",
              "    }\n",
              "\n",
              "    .dataframe thead th {\n",
              "        text-align: right;\n",
              "    }\n",
              "</style>\n",
              "<table border=\"1\" class=\"dataframe\">\n",
              "  <thead>\n",
              "    <tr style=\"text-align: right;\">\n",
              "      <th></th>\n",
              "      <th>attempt 0</th>\n",
              "      <th>attempt 1</th>\n",
              "      <th>attempt 2</th>\n",
              "      <th>attempt 3</th>\n",
              "      <th>attempt 4</th>\n",
              "      <th>attempt 5</th>\n",
              "      <th>attempt 6</th>\n",
              "      <th>attempt 7</th>\n",
              "      <th>attempt 8</th>\n",
              "      <th>attempt 9</th>\n",
              "      <th>attempt 10</th>\n",
              "      <th>attempt 11</th>\n",
              "      <th>attempt 12</th>\n",
              "      <th>attempt 13</th>\n",
              "      <th>attempt 14</th>\n",
              "      <th>attempt 15</th>\n",
              "      <th>attempt 16</th>\n",
              "      <th>attempt 17</th>\n",
              "      <th>total_time</th>\n",
              "      <th>sequence</th>\n",
              "    </tr>\n",
              "  </thead>\n",
              "  <tbody>\n",
              "    <tr>\n",
              "      <th>0</th>\n",
              "      <td>2p,5p,8p,9p</td>\n",
              "      <td>2d</td>\n",
              "      <td>8d</td>\n",
              "      <td>6p,7p</td>\n",
              "      <td>9d</td>\n",
              "      <td>7d</td>\n",
              "      <td>5d</td>\n",
              "      <td>1p,3p</td>\n",
              "      <td>3d</td>\n",
              "      <td>1d</td>\n",
              "      <td>6d</td>\n",
              "      <td>4p</td>\n",
              "      <td>4d</td>\n",
              "      <td>0d</td>\n",
              "      <td>0d</td>\n",
              "      <td>0d</td>\n",
              "      <td>0d</td>\n",
              "      <td>0d</td>\n",
              "      <td>3.300000</td>\n",
              "      <td>2p,5p,8p,9p2d8d6p,7p9d7d5d1p,3p3d1d6d4p4d0d0d0...</td>\n",
              "    </tr>\n",
              "    <tr>\n",
              "      <th>1</th>\n",
              "      <td>1p,4p,8p</td>\n",
              "      <td>1d</td>\n",
              "      <td>5p</td>\n",
              "      <td>4d</td>\n",
              "      <td>3p,9p</td>\n",
              "      <td>8d</td>\n",
              "      <td>9d</td>\n",
              "      <td>2p</td>\n",
              "      <td>3d</td>\n",
              "      <td>5d</td>\n",
              "      <td>2d</td>\n",
              "      <td>6p</td>\n",
              "      <td>6d</td>\n",
              "      <td>7p</td>\n",
              "      <td>7d</td>\n",
              "      <td>0d</td>\n",
              "      <td>0d</td>\n",
              "      <td>0d</td>\n",
              "      <td>3.400000</td>\n",
              "      <td>1p,4p,8p1d5p4d3p,9p8d9d2p3d5d2d6p6d7p7d0d0d0d</td>\n",
              "    </tr>\n",
              "    <tr>\n",
              "      <th>2</th>\n",
              "      <td>5p,7p,9p</td>\n",
              "      <td>9d</td>\n",
              "      <td>7d</td>\n",
              "      <td>3p,4p,6p</td>\n",
              "      <td>6d</td>\n",
              "      <td>4d</td>\n",
              "      <td>3d</td>\n",
              "      <td>1p,2p,8p</td>\n",
              "      <td>1d</td>\n",
              "      <td>2d</td>\n",
              "      <td>8d</td>\n",
              "      <td>5d</td>\n",
              "      <td>0d</td>\n",
              "      <td>0d</td>\n",
              "      <td>0d</td>\n",
              "      <td>0d</td>\n",
              "      <td>0d</td>\n",
              "      <td>0d</td>\n",
              "      <td>2.866667</td>\n",
              "      <td>5p,7p,9p9d7d3p,4p,6p6d4d3d1p,2p,8p1d2d8d5d0d0d...</td>\n",
              "    </tr>\n",
              "    <tr>\n",
              "      <th>3</th>\n",
              "      <td>2p,8p</td>\n",
              "      <td>8d</td>\n",
              "      <td>3p,5p</td>\n",
              "      <td>2d</td>\n",
              "      <td>4p</td>\n",
              "      <td>4d</td>\n",
              "      <td>5d</td>\n",
              "      <td>1p</td>\n",
              "      <td>3d</td>\n",
              "      <td>7p</td>\n",
              "      <td>7d</td>\n",
              "      <td>6p,9p</td>\n",
              "      <td>6d</td>\n",
              "      <td>9d</td>\n",
              "      <td>1d</td>\n",
              "      <td>0d</td>\n",
              "      <td>0d</td>\n",
              "      <td>0d</td>\n",
              "      <td>3.733333</td>\n",
              "      <td>2p,8p8d3p,5p2d4p4d5d1p3d7p7d6p,9p6d9d1d0d0d0d</td>\n",
              "    </tr>\n",
              "    <tr>\n",
              "      <th>4</th>\n",
              "      <td>1p,4p,7p,8p</td>\n",
              "      <td>1d</td>\n",
              "      <td>4d</td>\n",
              "      <td>7d</td>\n",
              "      <td>3p,9p</td>\n",
              "      <td>8d</td>\n",
              "      <td>9d</td>\n",
              "      <td>2p,5p</td>\n",
              "      <td>3d</td>\n",
              "      <td>5d</td>\n",
              "      <td>2d</td>\n",
              "      <td>6p</td>\n",
              "      <td>6d</td>\n",
              "      <td>0d</td>\n",
              "      <td>0d</td>\n",
              "      <td>0d</td>\n",
              "      <td>0d</td>\n",
              "      <td>0d</td>\n",
              "      <td>3.100000</td>\n",
              "      <td>1p,4p,7p,8p1d4d7d3p,9p8d9d2p,5p3d5d2d6p6d0d0d0...</td>\n",
              "    </tr>\n",
              "    <tr>\n",
              "      <th>5</th>\n",
              "      <td>1p,2p,7p</td>\n",
              "      <td>1d</td>\n",
              "      <td>4p</td>\n",
              "      <td>2d</td>\n",
              "      <td>6p</td>\n",
              "      <td>6d</td>\n",
              "      <td>7d</td>\n",
              "      <td>3p,9p</td>\n",
              "      <td>9d</td>\n",
              "      <td>4d</td>\n",
              "      <td>5p</td>\n",
              "      <td>5d</td>\n",
              "      <td>3d</td>\n",
              "      <td>8p</td>\n",
              "      <td>8d</td>\n",
              "      <td>0d</td>\n",
              "      <td>0d</td>\n",
              "      <td>0d</td>\n",
              "      <td>3.366667</td>\n",
              "      <td>1p,2p,7p1d4p2d6p6d7d3p,9p9d4d5p5d3d8p8d0d0d0d</td>\n",
              "    </tr>\n",
              "    <tr>\n",
              "      <th>6</th>\n",
              "      <td>1p,4p,8p</td>\n",
              "      <td>8d</td>\n",
              "      <td>5p</td>\n",
              "      <td>4d</td>\n",
              "      <td>3p,9p</td>\n",
              "      <td>1d</td>\n",
              "      <td>9d</td>\n",
              "      <td>2p</td>\n",
              "      <td>3d</td>\n",
              "      <td>5d</td>\n",
              "      <td>2d</td>\n",
              "      <td>6p</td>\n",
              "      <td>6d</td>\n",
              "      <td>7p</td>\n",
              "      <td>7d</td>\n",
              "      <td>0d</td>\n",
              "      <td>0d</td>\n",
              "      <td>0d</td>\n",
              "      <td>3.866667</td>\n",
              "      <td>1p,4p,8p8d5p4d3p,9p1d9d2p3d5d2d6p6d7p7d0d0d0d</td>\n",
              "    </tr>\n",
              "    <tr>\n",
              "      <th>7</th>\n",
              "      <td>1p,4p,5p,8p</td>\n",
              "      <td>1d</td>\n",
              "      <td>5d</td>\n",
              "      <td>8d</td>\n",
              "      <td>6p,7p,9p</td>\n",
              "      <td>9d</td>\n",
              "      <td>6d</td>\n",
              "      <td>2p,3p</td>\n",
              "      <td>7d</td>\n",
              "      <td>2d</td>\n",
              "      <td>3d</td>\n",
              "      <td>4d</td>\n",
              "      <td>0d</td>\n",
              "      <td>0d</td>\n",
              "      <td>0d</td>\n",
              "      <td>0d</td>\n",
              "      <td>0d</td>\n",
              "      <td>0d</td>\n",
              "      <td>3.100000</td>\n",
              "      <td>1p,4p,5p,8p1d5d8d6p,7p,9p9d6d2p,3p7d2d3d4d0d0d...</td>\n",
              "    </tr>\n",
              "    <tr>\n",
              "      <th>8</th>\n",
              "      <td>1p,3p,4p,9p</td>\n",
              "      <td>4d</td>\n",
              "      <td>5p</td>\n",
              "      <td>9d</td>\n",
              "      <td>8p</td>\n",
              "      <td>8d</td>\n",
              "      <td>3d</td>\n",
              "      <td>2p</td>\n",
              "      <td>2d</td>\n",
              "      <td>6p</td>\n",
              "      <td>5d</td>\n",
              "      <td>1d</td>\n",
              "      <td>6d</td>\n",
              "      <td>7p</td>\n",
              "      <td>7d</td>\n",
              "      <td>0d</td>\n",
              "      <td>0d</td>\n",
              "      <td>0d</td>\n",
              "      <td>3.933333</td>\n",
              "      <td>1p,3p,4p,9p4d5p9d8p8d3d2p2d6p5d1d6d7p7d0d0d0d</td>\n",
              "    </tr>\n",
              "    <tr>\n",
              "      <th>9</th>\n",
              "      <td>1p,4p,6p,8p</td>\n",
              "      <td>6d</td>\n",
              "      <td>5p</td>\n",
              "      <td>4d</td>\n",
              "      <td>3p</td>\n",
              "      <td>8d</td>\n",
              "      <td>3d</td>\n",
              "      <td>2p</td>\n",
              "      <td>2d</td>\n",
              "      <td>9p</td>\n",
              "      <td>5d</td>\n",
              "      <td>1d</td>\n",
              "      <td>9d</td>\n",
              "      <td>7p</td>\n",
              "      <td>7d</td>\n",
              "      <td>0d</td>\n",
              "      <td>0d</td>\n",
              "      <td>0d</td>\n",
              "      <td>3.933333</td>\n",
              "      <td>1p,4p,6p,8p6d5p4d3p8d3d2p2d9p5d1d9d7p7d0d0d0d</td>\n",
              "    </tr>\n",
              "    <tr>\n",
              "      <th>10</th>\n",
              "      <td>1p,6p,7p,8p</td>\n",
              "      <td>1d</td>\n",
              "      <td>6d</td>\n",
              "      <td>7d</td>\n",
              "      <td>9p</td>\n",
              "      <td>8d</td>\n",
              "      <td>9d</td>\n",
              "      <td>2p,3p,5p</td>\n",
              "      <td>3d</td>\n",
              "      <td>5d</td>\n",
              "      <td>2d</td>\n",
              "      <td>4p</td>\n",
              "      <td>4d</td>\n",
              "      <td>0d</td>\n",
              "      <td>0d</td>\n",
              "      <td>0d</td>\n",
              "      <td>0d</td>\n",
              "      <td>0d</td>\n",
              "      <td>3.033333</td>\n",
              "      <td>1p,6p,7p,8p1d6d7d9p8d9d2p,3p,5p3d5d2d4p4d0d0d0...</td>\n",
              "    </tr>\n",
              "    <tr>\n",
              "      <th>11</th>\n",
              "      <td>1p,5p,6p,7p</td>\n",
              "      <td>6d</td>\n",
              "      <td>7d</td>\n",
              "      <td>4p,9p</td>\n",
              "      <td>4d</td>\n",
              "      <td>1d</td>\n",
              "      <td>9d</td>\n",
              "      <td>2p,3p</td>\n",
              "      <td>3d</td>\n",
              "      <td>5d</td>\n",
              "      <td>2d</td>\n",
              "      <td>8p</td>\n",
              "      <td>8d</td>\n",
              "      <td>0d</td>\n",
              "      <td>0d</td>\n",
              "      <td>0d</td>\n",
              "      <td>0d</td>\n",
              "      <td>0d</td>\n",
              "      <td>3.366667</td>\n",
              "      <td>1p,5p,6p,7p6d7d4p,9p4d1d9d2p,3p3d5d2d8p8d0d0d0...</td>\n",
              "    </tr>\n",
              "    <tr>\n",
              "      <th>12</th>\n",
              "      <td>1p,4p,6p,8p</td>\n",
              "      <td>1d</td>\n",
              "      <td>6d</td>\n",
              "      <td>4d</td>\n",
              "      <td>3p</td>\n",
              "      <td>8d</td>\n",
              "      <td>3d</td>\n",
              "      <td>2p</td>\n",
              "      <td>2d</td>\n",
              "      <td>5p</td>\n",
              "      <td>5d</td>\n",
              "      <td>7p</td>\n",
              "      <td>7d</td>\n",
              "      <td>9p</td>\n",
              "      <td>9d</td>\n",
              "      <td>0d</td>\n",
              "      <td>0d</td>\n",
              "      <td>0d</td>\n",
              "      <td>3.666667</td>\n",
              "      <td>1p,4p,6p,8p1d6d4d3p8d3d2p2d5p5d7p7d9p9d0d0d0d</td>\n",
              "    </tr>\n",
              "    <tr>\n",
              "      <th>13</th>\n",
              "      <td>1p,4p,7p,8p</td>\n",
              "      <td>1d</td>\n",
              "      <td>6p</td>\n",
              "      <td>4d</td>\n",
              "      <td>3p</td>\n",
              "      <td>8d</td>\n",
              "      <td>7d</td>\n",
              "      <td>2p</td>\n",
              "      <td>3d</td>\n",
              "      <td>6d</td>\n",
              "      <td>9p</td>\n",
              "      <td>9d</td>\n",
              "      <td>2d</td>\n",
              "      <td>5p</td>\n",
              "      <td>5d</td>\n",
              "      <td>0d</td>\n",
              "      <td>0d</td>\n",
              "      <td>0d</td>\n",
              "      <td>3.533333</td>\n",
              "      <td>1p,4p,7p,8p1d6p4d3p8d7d2p3d6d9p9d2d5p5d0d0d0d</td>\n",
              "    </tr>\n",
              "    <tr>\n",
              "      <th>14</th>\n",
              "      <td>1p,7p,8p</td>\n",
              "      <td>1d</td>\n",
              "      <td>5p,6p</td>\n",
              "      <td>5d</td>\n",
              "      <td>3p</td>\n",
              "      <td>8d</td>\n",
              "      <td>7d</td>\n",
              "      <td>2p</td>\n",
              "      <td>3d</td>\n",
              "      <td>6d</td>\n",
              "      <td>9p</td>\n",
              "      <td>9d</td>\n",
              "      <td>2d</td>\n",
              "      <td>4p</td>\n",
              "      <td>4d</td>\n",
              "      <td>0d</td>\n",
              "      <td>0d</td>\n",
              "      <td>0d</td>\n",
              "      <td>3.566667</td>\n",
              "      <td>1p,7p,8p1d5p,6p5d3p8d7d2p3d6d9p9d2d4p4d0d0d0d</td>\n",
              "    </tr>\n",
              "  </tbody>\n",
              "</table>\n",
              "</div>"
            ],
            "text/plain": [
              "      attempt 0 attempt 1 attempt 2 attempt 3 attempt 4 attempt 5 attempt 6  \\\n",
              "0   2p,5p,8p,9p        2d        8d     6p,7p        9d        7d        5d   \n",
              "1      1p,4p,8p        1d        5p        4d     3p,9p        8d        9d   \n",
              "2      5p,7p,9p        9d        7d  3p,4p,6p        6d        4d        3d   \n",
              "3         2p,8p        8d     3p,5p        2d        4p        4d        5d   \n",
              "4   1p,4p,7p,8p        1d        4d        7d     3p,9p        8d        9d   \n",
              "5      1p,2p,7p        1d        4p        2d        6p        6d        7d   \n",
              "6      1p,4p,8p        8d        5p        4d     3p,9p        1d        9d   \n",
              "7   1p,4p,5p,8p        1d        5d        8d  6p,7p,9p        9d        6d   \n",
              "8   1p,3p,4p,9p        4d        5p        9d        8p        8d        3d   \n",
              "9   1p,4p,6p,8p        6d        5p        4d        3p        8d        3d   \n",
              "10  1p,6p,7p,8p        1d        6d        7d        9p        8d        9d   \n",
              "11  1p,5p,6p,7p        6d        7d     4p,9p        4d        1d        9d   \n",
              "12  1p,4p,6p,8p        1d        6d        4d        3p        8d        3d   \n",
              "13  1p,4p,7p,8p        1d        6p        4d        3p        8d        7d   \n",
              "14     1p,7p,8p        1d     5p,6p        5d        3p        8d        7d   \n",
              "\n",
              "   attempt 7 attempt 8 attempt 9 attempt 10 attempt 11 attempt 12 attempt 13  \\\n",
              "0      1p,3p        3d        1d         6d         4p         4d         0d   \n",
              "1         2p        3d        5d         2d         6p         6d         7p   \n",
              "2   1p,2p,8p        1d        2d         8d         5d         0d         0d   \n",
              "3         1p        3d        7p         7d      6p,9p         6d         9d   \n",
              "4      2p,5p        3d        5d         2d         6p         6d         0d   \n",
              "5      3p,9p        9d        4d         5p         5d         3d         8p   \n",
              "6         2p        3d        5d         2d         6p         6d         7p   \n",
              "7      2p,3p        7d        2d         3d         4d         0d         0d   \n",
              "8         2p        2d        6p         5d         1d         6d         7p   \n",
              "9         2p        2d        9p         5d         1d         9d         7p   \n",
              "10  2p,3p,5p        3d        5d         2d         4p         4d         0d   \n",
              "11     2p,3p        3d        5d         2d         8p         8d         0d   \n",
              "12        2p        2d        5p         5d         7p         7d         9p   \n",
              "13        2p        3d        6d         9p         9d         2d         5p   \n",
              "14        2p        3d        6d         9p         9d         2d         4p   \n",
              "\n",
              "   attempt 14 attempt 15 attempt 16 attempt 17  total_time  \\\n",
              "0          0d         0d         0d         0d    3.300000   \n",
              "1          7d         0d         0d         0d    3.400000   \n",
              "2          0d         0d         0d         0d    2.866667   \n",
              "3          1d         0d         0d         0d    3.733333   \n",
              "4          0d         0d         0d         0d    3.100000   \n",
              "5          8d         0d         0d         0d    3.366667   \n",
              "6          7d         0d         0d         0d    3.866667   \n",
              "7          0d         0d         0d         0d    3.100000   \n",
              "8          7d         0d         0d         0d    3.933333   \n",
              "9          7d         0d         0d         0d    3.933333   \n",
              "10         0d         0d         0d         0d    3.033333   \n",
              "11         0d         0d         0d         0d    3.366667   \n",
              "12         9d         0d         0d         0d    3.666667   \n",
              "13         5d         0d         0d         0d    3.533333   \n",
              "14         4d         0d         0d         0d    3.566667   \n",
              "\n",
              "                                             sequence  \n",
              "0   2p,5p,8p,9p2d8d6p,7p9d7d5d1p,3p3d1d6d4p4d0d0d0...  \n",
              "1       1p,4p,8p1d5p4d3p,9p8d9d2p3d5d2d6p6d7p7d0d0d0d  \n",
              "2   5p,7p,9p9d7d3p,4p,6p6d4d3d1p,2p,8p1d2d8d5d0d0d...  \n",
              "3       2p,8p8d3p,5p2d4p4d5d1p3d7p7d6p,9p6d9d1d0d0d0d  \n",
              "4   1p,4p,7p,8p1d4d7d3p,9p8d9d2p,5p3d5d2d6p6d0d0d0...  \n",
              "5       1p,2p,7p1d4p2d6p6d7d3p,9p9d4d5p5d3d8p8d0d0d0d  \n",
              "6       1p,4p,8p8d5p4d3p,9p1d9d2p3d5d2d6p6d7p7d0d0d0d  \n",
              "7   1p,4p,5p,8p1d5d8d6p,7p,9p9d6d2p,3p7d2d3d4d0d0d...  \n",
              "8       1p,3p,4p,9p4d5p9d8p8d3d2p2d6p5d1d6d7p7d0d0d0d  \n",
              "9       1p,4p,6p,8p6d5p4d3p8d3d2p2d9p5d1d9d7p7d0d0d0d  \n",
              "10  1p,6p,7p,8p1d6d7d9p8d9d2p,3p,5p3d5d2d4p4d0d0d0...  \n",
              "11  1p,5p,6p,7p6d7d4p,9p4d1d9d2p,3p3d5d2d8p8d0d0d0...  \n",
              "12      1p,4p,6p,8p1d6d4d3p8d3d2p2d5p5d7p7d9p9d0d0d0d  \n",
              "13      1p,4p,7p,8p1d6p4d3p8d7d2p3d6d9p9d2d5p5d0d0d0d  \n",
              "14      1p,7p,8p1d5p,6p5d3p8d7d2p3d6d9p9d2d4p4d0d0d0d  "
            ]
          },
          "execution_count": 24,
          "metadata": {},
          "output_type": "execute_result"
        }
      ],
      "source": [
        "sol_pool"
      ]
    },
    {
      "cell_type": "markdown",
      "metadata": {
        "id": "swz3_GqHW3jX"
      },
      "source": [
        "## Checking for duplicates"
      ]
    },
    {
      "cell_type": "code",
      "execution_count": null,
      "metadata": {
        "id": "10wQqoFLW3jX"
      },
      "outputs": [],
      "source": [
        "for i in range(0,len(sol_pool)):\n",
        "    if sol_pool[\"sequence\"].duplicated()[i] == True:\n",
        "        print(sol_pool[\"sequence\"].duplicated()[i])"
      ]
    },
    {
      "cell_type": "markdown",
      "metadata": {
        "id": "HyRckkj3W3jX"
      },
      "source": [
        "## Solution pool export\n",
        "### Block code with error"
      ]
    },
    {
      "cell_type": "code",
      "execution_count": null,
      "metadata": {
        "id": "7y74zZfOW3jX",
        "outputId": "77880acb-9eaf-4595-ad66-88e6949292ac"
      },
      "outputs": [
        {
          "ename": "SyntaxError",
          "evalue": "invalid syntax (Temp/ipykernel_9484/3641060880.py, line 1)",
          "output_type": "error",
          "traceback": [
            "\u001b[1;36m  File \u001b[1;32m\"C:\\Users\\sabbe\\AppData\\Local\\Temp/ipykernel_9484/3641060880.py\"\u001b[1;36m, line \u001b[1;32m1\u001b[0m\n\u001b[1;33m    print(Code intentionally blocked here)\u001b[0m\n\u001b[1;37m               ^\u001b[0m\n\u001b[1;31mSyntaxError\u001b[0m\u001b[1;31m:\u001b[0m invalid syntax\n"
          ]
        }
      ],
      "source": [
        "print(Code intentionally blocked here)\n",
        "\n",
        "writer = pd.ExcelWriter('Solution.xlsx')\n",
        "sol_pool.to_excel(writer, 'Solution', na_rep='NA')\n",
        "writer.save()"
      ]
    }
  ],
  "metadata": {
    "interpreter": {
      "hash": "bc62c999cbe92f0b58003edcd203386b31f432bcf519936746b313c41900e0ce"
    },
    "kernelspec": {
      "display_name": "Python 3 (ipykernel)",
      "language": "python",
      "name": "python3"
    },
    "language_info": {
      "codemirror_mode": {
        "name": "ipython",
        "version": 3
      },
      "file_extension": ".py",
      "mimetype": "text/x-python",
      "name": "python",
      "nbconvert_exporter": "python",
      "pygments_lexer": "ipython3",
      "version": "3.9.7"
    },
    "colab": {
      "provenance": []
    }
  },
  "nbformat": 4,
  "nbformat_minor": 0
}